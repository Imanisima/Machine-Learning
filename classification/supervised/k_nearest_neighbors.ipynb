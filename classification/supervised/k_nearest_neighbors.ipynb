{
 "cells": [
  {
   "cell_type": "markdown",
   "metadata": {},
   "source": [
    "## k-Nearest Neighbors (kNN)\n",
    "---\n",
    "Predicting classification of data points using previous already classified data points.\n",
    "\n",
    "### Algorithm\n",
    "---\n",
    "1. We have a training set with labels\n",
    "2. Given a new piece of data, compare that data point to every piece of existing data.\n",
    "3. Take the most similar data points (the nearest neighbors) and look at their labels.\n",
    "4. Look at the top ``k`` most similar data points from the known dataset\n",
    "5. Wherever ``k`` is shown the most, assign the that class to the data point needed to classify.\n",
    "\n",
    "### Benefits/Drawbacks\n",
    "---\n",
    "```Pros:```\n",
    "* high accuracy\n",
    "* insensitive to outliers\n",
    "* no assumptions about the data\n",
    "\n",
    "```Cons:```\n",
    "* computationally heavy\n",
    "* reguires a lot of memory\n",
    "\n",
    "```Works with:```\n",
    "* numeric values\n",
    "* nominal values"
   ]
  },
  {
   "cell_type": "code",
   "execution_count": 2,
   "metadata": {},
   "outputs": [],
   "source": [
    "from numpy import *\n",
    "import operator"
   ]
  },
  {
   "cell_type": "code",
   "execution_count": 5,
   "metadata": {},
   "outputs": [
    {
     "data": {
      "text/plain": [
       "array([[1. , 1.1],\n",
       "       [1. , 1. ],\n",
       "       [0. , 0. ],\n",
       "       [0. , 0.1]])"
      ]
     },
     "execution_count": 5,
     "metadata": {},
     "output_type": "execute_result"
    }
   ],
   "source": [
    "# creates dataset and labels\n",
    "def createDataSet():\n",
    "    group = array([[1.0, 1.1], [1.0, 1.0], [0,0], [0, 0.1]])\n",
    "    labels = ['A', 'A', 'B', 'B']\n",
    "    return group, labels\n",
    "\n",
    "group, labels = createDataSet()\n",
    "group"
   ]
  },
  {
   "cell_type": "code",
   "execution_count": 6,
   "metadata": {},
   "outputs": [
    {
     "data": {
      "text/plain": [
       "['A', 'A', 'B', 'B']"
      ]
     },
     "execution_count": 6,
     "metadata": {},
     "output_type": "execute_result"
    }
   ],
   "source": [
    "labels"
   ]
  }
 ],
 "metadata": {
  "kernelspec": {
   "display_name": "Python 3",
   "language": "python",
   "name": "python3"
  },
  "language_info": {
   "codemirror_mode": {
    "name": "ipython",
    "version": 3
   },
   "file_extension": ".py",
   "mimetype": "text/x-python",
   "name": "python",
   "nbconvert_exporter": "python",
   "pygments_lexer": "ipython3",
   "version": "3.7.6"
  }
 },
 "nbformat": 4,
 "nbformat_minor": 4
}
