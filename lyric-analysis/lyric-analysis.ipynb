{
 "cells": [
  {
   "cell_type": "markdown",
   "metadata": {},
   "source": [
    "# Ƭ̵̬̊  Why Lyric Analysis Ƭ̵̬̊\n",
    "The complexity of lyrics is declining. If the words used in songs are compared to reading levels, the reading level is that of elementary students. Or at least some [studies](https://www.theguardian.com/music/2015/may/19/new-study-reveals-lyric-intelligence-getting-lower) suggest.\n",
    "\n",
    "Inspired by this study, I decided to see if it was possible to use text mining, NLP, machine learning, and other methods to find if these studies hold some merit.\n",
    "\n",
    "## Ƭ̵̬̊  Questions Ƭ̵̬̊\n",
    "For this project, I came up with a few questions:\n",
    "1. Are there particular themes that are more appealing to society due to how highly a song is rated?\n",
    "2. Is it possible to predict how well a song will be received based solely on lyrical analysis?\n",
    "3. Which artists are considered more \"lyrically inelligent\"?\n",
    "4. Does lyrical intelligence depend on the genre of music?\n",
    "\n",
    "We will examine the complexity of The Artist's (Prince) music."
   ]
  }
 ],
 "metadata": {
  "kernelspec": {
   "display_name": "Python 3",
   "language": "python",
   "name": "python3"
  },
  "language_info": {
   "codemirror_mode": {
    "name": "ipython",
    "version": 3
   },
   "file_extension": ".py",
   "mimetype": "text/x-python",
   "name": "python",
   "nbconvert_exporter": "python",
   "pygments_lexer": "ipython3",
   "version": "3.8.2"
  }
 },
 "nbformat": 4,
 "nbformat_minor": 4
}
