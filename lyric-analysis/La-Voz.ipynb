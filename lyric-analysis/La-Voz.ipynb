{
 "cells": [
  {
   "cell_type": "markdown",
   "metadata": {},
   "source": [
    "# Ƭ̵̬̊  Why Lyric Analysis Ƭ̵̬̊\n",
    "The complexity of lyrics is declining. If the words used in songs are compared to reading levels, the reading level is that of elementary students. Or at least some [studies](https://www.theguardian.com/music/2015/may/19/new-study-reveals-lyric-intelligence-getting-lower) suggest.\n",
    "\n",
    "Inspired by this study, I decided to see if it was possible to use text mining, NLP, machine learning, and other methods to find if these studies hold some merit.\n",
    "\n",
    "## Ƭ̵̬̊  Questions Ƭ̵̬̊\n",
    "For this project, I came up with a few questions:\n",
    "1. Are there particular themes that are more appealing to society due to how highly a song is rated?\n",
    "2. Is it possible to predict how well a song will be received based solely on lyrical analysis?\n",
    "3. Which artists are considered more \"lyrically inelligent\"?\n",
    "4. Does lyrical intelligence depend on the genre of music?\n",
    "\n",
    "We will examine the complexity of Ol' Blue Eyes's (Frank Sinatra's) music."
   ]
  },
  {
   "cell_type": "code",
   "execution_count": 1,
   "metadata": {},
   "outputs": [],
   "source": [
    "# first we will scrape Billboard Chart information\n",
    "# and lyrics from various sites\n",
    "# match information under song title\n",
    "import pandas as pd\n",
    "import numpy as np\n",
    "from plotnine import *\n",
    "from bs4 import BeautifulSoup as bs\n",
    "import requests\n",
    "import re"
   ]
  },
  {
   "cell_type": "code",
   "execution_count": 2,
   "metadata": {},
   "outputs": [],
   "source": [
    "# connect to the site using Beautifulsoup\n",
    "source = None\n",
    "url = 'https://www.billboard.com/music/frank-sinatra/chart-history/'\n",
    "headers = {'User-Agent': 'Mozilla/5.0 (Windows NT 10.0; Win64; x64; rv:77.0) Gecko/20100101 Firefox/77.0'}\n",
    "\n",
    "try:\n",
    "    source = requests.get(url, headers=headers) # urlreq.urlopen(url).read()\n",
    "    source.content.decode()\n",
    "    \n",
    "except Exception as e:\n",
    "    print(e)"
   ]
  },
  {
   "cell_type": "code",
   "execution_count": 3,
   "metadata": {},
   "outputs": [
    {
     "data": {
      "text/plain": [
       "<Response [200]>"
      ]
     },
     "execution_count": 3,
     "metadata": {},
     "output_type": "execute_result"
    }
   ],
   "source": [
    "# status code 200 means page is downloaded successfully\n",
    "source"
   ]
  },
  {
   "cell_type": "markdown",
   "metadata": {},
   "source": [
    "-------------------------------------\n",
    "We are only interested in the following tag classes for extracting information about the song:\n",
    "\n",
    "-------------------------------------"
   ]
  },
  {
   "cell_type": "code",
   "execution_count": 4,
   "metadata": {},
   "outputs": [],
   "source": [
    "# classes for extracting information\n",
    "class_album_cover = 'chart-history__item__image'\n",
    "# p\n",
    "class_song = 'chart-history__titles__list__item__title'\n",
    "class_artist = 'chart-history__titles__list__item__artist'\n",
    "class_peak = 'chart-history__titles__list__item__peak'\n",
    "#a\n",
    "class_peak_date = 'color--secondary font--bold'"
   ]
  },
  {
   "cell_type": "code",
   "execution_count": 5,
   "metadata": {},
   "outputs": [],
   "source": [
    "parse_song_list = 'chart-history__titles__list__item'\n",
    "\n",
    "soup = bs(source.content, 'html.parser')\n",
    "find_list = soup.find_all('ul', class_=\"chart-history__titles__list\")\n",
    "# find_list # uncomment to see parsed html code"
   ]
  },
  {
   "cell_type": "code",
   "execution_count": 6,
   "metadata": {},
   "outputs": [
    {
     "name": "stdout",
     "output_type": "stream",
     "text": [
      " Peak: 30\n",
      " Date: 07.09.1959\n",
      " Song: High Hopes\n",
      " Artist: Frank Sinatra \"and a bunch of kids\"\n",
      "\n",
      " Peak: 1\n",
      " Date: 02.07.1966\n",
      " Song: Strangers In The Night\n",
      " Artist: Frank Sinatra\n",
      "\n",
      " Peak: 1\n",
      " Date: 15.04.1967\n",
      " Song: Somethin' Stupid\n",
      " Artist: Nancy Sinatra & Frank Sinatra\n",
      "\n",
      " Peak: 32\n",
      " Date: 14.06.1980\n",
      " Song: Theme From New York, New York\n",
      " Artist: Frank Sinatra\n",
      "\n",
      " Peak: 4\n",
      " Date: 24.12.1966\n",
      " Song: That's Life\n",
      " Artist: Frank Sinatra\n",
      "\n",
      " Peak: 27\n",
      " Date: 31.10.1964\n",
      " Song: Softly, As I Leave You\n",
      " Artist: Frank Sinatra\n",
      "\n",
      " Peak: 38\n",
      " Date: 30.11.1959\n",
      " Song: Talk To Me\n",
      " Artist: Frank Sinatra\n",
      "\n",
      " Peak: 41\n",
      " Date: 01.12.1958\n",
      " Song: Mr. Success\n",
      " Artist: Frank Sinatra\n",
      "\n",
      " Peak: 63\n",
      " Date: 29.12.1973\n",
      " Song: Let Me Try Again (Laisse Moi Le Temps)\n",
      " Artist: Frank Sinatra\n",
      "\n",
      " Peak: 32\n",
      " Date: 06.02.1965\n",
      " Song: Somewhere In Your Heart\n",
      " Artist: Frank Sinatra\n",
      "\n",
      "Finished writing to file!\n"
     ]
    }
   ],
   "source": [
    "# create a csv file to save song info\n",
    "filename = \"Strangers_of_the_Night.csv\"\n",
    "f = open(filename, \"w\")\n",
    "\n",
    "try:\n",
    "    soup = bs(find_list.__str__(), 'html.parser')\n",
    "    containers = soup.find_all('li')\n",
    "    \n",
    "    file_header = \"Billboard Number; Date; Song Title; Artist\\n\"\n",
    "    f.write(file_header)\n",
    "    \n",
    "    for container in containers:\n",
    "        # find song peak\n",
    "        get_peak = container.find(\"p\", {\"class\": class_peak})\n",
    "        peak = get_peak.get_text().strip()\n",
    "\n",
    "        # extract ranking from sentence\n",
    "        res = [float(s) for s in re.findall(r'-?\\d+\\.?\\d*', peak)] \n",
    "        peak = str(int(res[0]))\n",
    "\n",
    "        # find date of peak\n",
    "        get_date = container.find(\"a\", {\"class\": class_peak_date})\n",
    "        on_date = get_date.get_text().strip()\n",
    "\n",
    "        # find artist name\n",
    "        get_artist = container.find(\"p\", {\"class\": class_artist})\n",
    "        artist = get_artist.get_text().strip()\n",
    "\n",
    "        # find song name\n",
    "        get_song = container.find(\"p\", {\"class\": class_song})\n",
    "        song = get_song.get_text().strip()\n",
    "\n",
    "        print(f' Peak: {peak}\\n Date: {on_date}\\n Song: {song}\\n Artist: {artist}\\n')\n",
    "        f.write(peak + \";\" + on_date + \";\" + song + \";\" + artist.replace(\", \" , \"|\") + '\\n')\n",
    "\n",
    "except Exception as e:\n",
    "    print(str(e))\n",
    "    \n",
    "f.close()\n",
    "print(\"Finished writing to file!\")"
   ]
  },
  {
   "cell_type": "code",
   "execution_count": null,
   "metadata": {},
   "outputs": [],
   "source": [
    "    "
   ]
  }
 ],
 "metadata": {
  "kernelspec": {
   "display_name": "Python 3",
   "language": "python",
   "name": "python3"
  },
  "language_info": {
   "codemirror_mode": {
    "name": "ipython",
    "version": 3
   },
   "file_extension": ".py",
   "mimetype": "text/x-python",
   "name": "python",
   "nbconvert_exporter": "python",
   "pygments_lexer": "ipython3",
   "version": "3.7.6"
  }
 },
 "nbformat": 4,
 "nbformat_minor": 4
}
