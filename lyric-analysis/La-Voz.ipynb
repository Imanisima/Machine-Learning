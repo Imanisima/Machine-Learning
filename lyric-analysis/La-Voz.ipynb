{
 "cells": [
  {
   "cell_type": "markdown",
   "metadata": {},
   "source": [
    "# Ƭ̵̬̊  Why Lyric Analysis Ƭ̵̬̊\n",
    "The complexity of lyrics is declining. If the words used in songs are compared to reading levels, the reading level is that of elementary students. Or at least some [studies](https://www.theguardian.com/music/2015/may/19/new-study-reveals-lyric-intelligence-getting-lower) suggest.\n",
    "\n",
    "Inspired by this study, I decided to see if it was possible to use text mining, NLP, machine learning, and other methods to find if these studies hold some merit.\n",
    "\n",
    "## Ƭ̵̬̊  Questions Ƭ̵̬̊\n",
    "For this project, I came up with a few questions:\n",
    "1. Are there particular themes that are more appealing to society due to how highly a song is rated?\n",
    "2. Is it possible to predict how well a song will be received based solely on lyrical analysis?\n",
    "3. Which artists are considered more \"lyrically inelligent\"?\n",
    "4. Does lyrical intelligence depend on the genre of music?\n",
    "\n",
    "We will examine the complexity of Ol' Blue Eyes's (Frank Sinatra's) music."
   ]
  },
  {
   "cell_type": "code",
   "execution_count": 1,
   "metadata": {},
   "outputs": [],
   "source": [
    "# first we will scrape Billboard Chart information\n",
    "# and lyrics from various sites\n",
    "# match information under song title\n",
    "import pandas as pd\n",
    "import numpy as np\n",
    "from plotnine import *\n",
    "from bs4 import BeautifulSoup as bs\n",
    "import requests\n",
    "import re\n",
    "#import urllib.request\n",
    "#import urllib.parse"
   ]
  },
  {
   "cell_type": "code",
   "execution_count": 2,
   "metadata": {},
   "outputs": [],
   "source": [
    "# connect to the site using Beautifulsoup\n",
    "source = None\n",
    "url = 'https://www.billboard.com/music/frank-sinatra/chart-history/TLP'\n",
    "headers = {'User-Agent': 'Mozilla/5.0 (Windows NT 10.0; Win64; x64; rv:77.0) Gecko/20100101 Firefox/77.0'}\n",
    "\n",
    "try:\n",
    "    source = requests.get(url, headers=headers) # urlreq.urlopen(url).read()\n",
    "    source.content.decode()\n",
    "    \n",
    "except Exception as e:\n",
    "    print(e)"
   ]
  },
  {
   "cell_type": "code",
   "execution_count": 3,
   "metadata": {},
   "outputs": [
    {
     "data": {
      "text/plain": [
       "<Response [200]>"
      ]
     },
     "execution_count": 3,
     "metadata": {},
     "output_type": "execute_result"
    }
   ],
   "source": [
    "# status code 200 means page is downloaded successfully\n",
    "source"
   ]
  },
  {
   "cell_type": "markdown",
   "metadata": {},
   "source": [
    "-------------------------------------\n",
    "We are only interested in the following tag classes for extracting information about the song:\n",
    "\n",
    "-------------------------------------"
   ]
  },
  {
   "cell_type": "code",
   "execution_count": 11,
   "metadata": {},
   "outputs": [],
   "source": [
    "# classes for extracting information\n",
    "class_album_cover = 'chart-history__item__image'\n",
    "# p\n",
    "class_song = 'chart-history__titles__list__item__title'\n",
    "class_artist = 'chart-history__titles__list__item__artist'\n",
    "class_peak = 'chart-history__titles__list__item__peak'\n",
    "#a\n",
    "class_peak_date = 'color--secondary font--bold'"
   ]
  },
  {
   "cell_type": "code",
   "execution_count": 14,
   "metadata": {
    "collapsed": true,
    "jupyter": {
     "outputs_hidden": true
    }
   },
   "outputs": [
    {
     "data": {
      "text/plain": [
       "[<ul class=\"chart-history__titles__list\">\n",
       " <li class=\"chart-history__titles__list__item\">\n",
       " <div class=\"chart-history__item\">\n",
       " <a class=\"chart-history__item__image\" href=\"/music/frank-sinatra/chart-history/TLP/song/569348\" style=\"background-image: url('https://charts-static.billboard.com/img/2008/05/frank-sinatra-ytu-nothing-but-the-best-isv.jpg');\"></a>\n",
       " <a class=\"chart-history__item__left\" href=\"/music/frank-sinatra/chart-history/TLP/song/569348\">\n",
       " <p class=\"chart-history__titles__list__item__title color--primary font--semi-bold\">Nothing But The Best</p>\n",
       " <p class=\"chart-history__titles__list__item__artist\">Frank Sinatra</p>\n",
       " </a>\n",
       " <div class=\"chart-history__item__right\">\n",
       " <p class=\"chart-history__titles__list__item__peak\">\n",
       " <span class=\"font--semi-bold\">Peaked</span> at #2 on\n",
       " <a class=\"color--secondary font--bold\" href=\"\">31.05.2008</a>\n",
       " </p>\n",
       " </div>\n",
       " </div>\n",
       " </li>\n",
       " <li class=\"chart-history__titles__list__item\">\n",
       " <div class=\"chart-history__item\">\n",
       " <a class=\"chart-history__item__image\" href=\"/music/frank-sinatra/chart-history/TLP/song/897777\" style=\"background-image: url('https://charts-static.billboard.com/img/2015/05/frank-sinatra-ytu-ultimate-sinatra-g7x.jpg');\"></a>\n",
       " <a class=\"chart-history__item__left\" href=\"/music/frank-sinatra/chart-history/TLP/song/897777\">\n",
       " <p class=\"chart-history__titles__list__item__title color--primary font--semi-bold\">Ultimate Sinatra</p>\n",
       " <p class=\"chart-history__titles__list__item__artist\">Frank Sinatra</p>\n",
       " </a>\n",
       " <div class=\"chart-history__item__right\">\n",
       " <p class=\"chart-history__titles__list__item__peak\">\n",
       " <span class=\"font--semi-bold\">Peaked</span> at #32 on\n",
       " <a class=\"color--secondary font--bold\" href=\"\">09.05.2015</a>\n",
       " </p>\n",
       " </div>\n",
       " </div>\n",
       " </li>\n",
       " <li class=\"chart-history__titles__list__item\">\n",
       " <div class=\"chart-history__item\">\n",
       " <a class=\"chart-history__item__image\" href=\"/music/frank-sinatra/chart-history/TLP/song/642288\" style=\"background-image: url('https://charts-static.billboard.com/img/1966/06/frank-sinatra-ytu.jpg');\"></a>\n",
       " <a class=\"chart-history__item__left\" href=\"/music/frank-sinatra/chart-history/TLP/song/642288\">\n",
       " <p class=\"chart-history__titles__list__item__title color--primary font--semi-bold\">Strangers In Night</p>\n",
       " <p class=\"chart-history__titles__list__item__artist\">Frank Sinatra</p>\n",
       " </a>\n",
       " <div class=\"chart-history__item__right\">\n",
       " <p class=\"chart-history__titles__list__item__peak\">\n",
       " <span class=\"font--semi-bold\">Peaked</span> at #1 on\n",
       " <a class=\"color--secondary font--bold\" href=\"\">23.07.1966</a>\n",
       " </p>\n",
       " </div>\n",
       " </div>\n",
       " </li>\n",
       " <li class=\"chart-history__titles__list__item\">\n",
       " <div class=\"chart-history__item\">\n",
       " <a class=\"chart-history__item__image\" href=\"/music/frank-sinatra/chart-history/TLP/song/664724\" style=\"background-image: url('https://charts-static.billboard.com/img/1965/08/frank-sinatra-ytu.jpg');\"></a>\n",
       " <a class=\"chart-history__item__left\" href=\"/music/frank-sinatra/chart-history/TLP/song/664724\">\n",
       " <p class=\"chart-history__titles__list__item__title color--primary font--semi-bold\">September Of My Year</p>\n",
       " <p class=\"chart-history__titles__list__item__artist\">Frank Sinatra</p>\n",
       " </a>\n",
       " <div class=\"chart-history__item__right\">\n",
       " <p class=\"chart-history__titles__list__item__peak\">\n",
       " <span class=\"font--semi-bold\">Peaked</span> at #5 on\n",
       " <a class=\"color--secondary font--bold\" href=\"\">26.02.1966</a>\n",
       " </p>\n",
       " </div>\n",
       " </div>\n",
       " </li>\n",
       " <li class=\"chart-history__titles__list__item\">\n",
       " <div class=\"chart-history__item\">\n",
       " <a class=\"chart-history__item__image\" href=\"/music/frank-sinatra/chart-history/TLP/song/827402\" style=\"background-image: url('https://charts-static.billboard.com/img/1966/12/frank-sinatra-ytu-thats-life-ch8.jpg');\"></a>\n",
       " <a class=\"chart-history__item__left\" href=\"/music/frank-sinatra/chart-history/TLP/song/827402\">\n",
       " <p class=\"chart-history__titles__list__item__title color--primary font--semi-bold\">That's Life</p>\n",
       " <p class=\"chart-history__titles__list__item__artist\">Frank Sinatra</p>\n",
       " </a>\n",
       " <div class=\"chart-history__item__right\">\n",
       " <p class=\"chart-history__titles__list__item__peak\">\n",
       " <span class=\"font--semi-bold\">Peaked</span> at #6 on\n",
       " <a class=\"color--secondary font--bold\" href=\"\">25.02.1967</a>\n",
       " </p>\n",
       " </div>\n",
       " </div>\n",
       " </li>\n",
       " <li class=\"chart-history__titles__list__item\">\n",
       " <div class=\"chart-history__item\">\n",
       " <a class=\"chart-history__item__image\" href=\"/music/frank-sinatra/chart-history/TLP/song/180612\" style=\"background-image: url('https://charts-static.billboard.com/img/1966/08/frank-sinatra-ytu-sinatra-at-the-sands-0ou.jpg');\"></a>\n",
       " <a class=\"chart-history__item__left\" href=\"/music/frank-sinatra/chart-history/TLP/song/180612\">\n",
       " <p class=\"chart-history__titles__list__item__title color--primary font--semi-bold\">Sinatra At The Sands</p>\n",
       " <p class=\"chart-history__titles__list__item__artist\">Frank Sinatra With Count Basie And His Orchestra</p>\n",
       " </a>\n",
       " <div class=\"chart-history__item__right\">\n",
       " <p class=\"chart-history__titles__list__item__peak\">\n",
       " <span class=\"font--semi-bold\">Peaked</span> at #9 on\n",
       " <a class=\"color--secondary font--bold\" href=\"\">15.10.1966</a>\n",
       " </p>\n",
       " </div>\n",
       " </div>\n",
       " </li>\n",
       " <li class=\"chart-history__titles__list__item\">\n",
       " <div class=\"chart-history__item\">\n",
       " <a class=\"chart-history__item__image\" href=\"/music/frank-sinatra/chart-history/TLP/song/828421\" style=\"background-image: url('https://charts-static.billboard.com/img/1965/07/frank-sinatra-ytu-sinatra-65-s5t.jpg');\"></a>\n",
       " <a class=\"chart-history__item__left\" href=\"/music/frank-sinatra/chart-history/TLP/song/828421\">\n",
       " <p class=\"chart-history__titles__list__item__title color--primary font--semi-bold\">Sinatra '65</p>\n",
       " <p class=\"chart-history__titles__list__item__artist\">Frank Sinatra</p>\n",
       " </a>\n",
       " <div class=\"chart-history__item__right\">\n",
       " <p class=\"chart-history__titles__list__item__peak\">\n",
       " <span class=\"font--semi-bold\">Peaked</span> at #9 on\n",
       " <a class=\"color--secondary font--bold\" href=\"\">11.09.1965</a>\n",
       " </p>\n",
       " </div>\n",
       " </div>\n",
       " </li>\n",
       " <li class=\"chart-history__titles__list__item\">\n",
       " <div class=\"chart-history__item\">\n",
       " <a class=\"chart-history__item__image\" href=\"/music/frank-sinatra/chart-history/TLP/song/826166\" style=\"background-image: url('https://charts-static.billboard.com/img/1963/10/frank-sinatra-ytu.jpg');\"></a>\n",
       " <a class=\"chart-history__item__left\" href=\"/music/frank-sinatra/chart-history/TLP/song/826166\">\n",
       " <p class=\"chart-history__titles__list__item__title color--primary font--semi-bold\">Sinatra's Sinatra</p>\n",
       " <p class=\"chart-history__titles__list__item__artist\">Frank Sinatra</p>\n",
       " </a>\n",
       " <div class=\"chart-history__item__right\">\n",
       " <p class=\"chart-history__titles__list__item__peak\">\n",
       " <span class=\"font--semi-bold\">Peaked</span> at #8 on\n",
       " <a class=\"color--secondary font--bold\" href=\"\">30.11.1963</a>\n",
       " </p>\n",
       " </div>\n",
       " </div>\n",
       " </li>\n",
       " <li class=\"chart-history__titles__list__item\">\n",
       " <div class=\"chart-history__item\">\n",
       " <a class=\"chart-history__item__image\" href=\"/music/frank-sinatra/chart-history/TLP/song/413766\" style=\"background-image: url('https://charts-static.billboard.com/img/2002/01/frank-sinatra-ytu-christmas-songs-by-sinatra-nuk.jpg');\"></a>\n",
       " <a class=\"chart-history__item__left\" href=\"/music/frank-sinatra/chart-history/TLP/song/413766\">\n",
       " <p class=\"chart-history__titles__list__item__title color--primary font--semi-bold\">Christmas Songs By Sinatra</p>\n",
       " <p class=\"chart-history__titles__list__item__artist\">Frank Sinatra</p>\n",
       " </a>\n",
       " <div class=\"chart-history__item__right\">\n",
       " <p class=\"chart-history__titles__list__item__peak\">\n",
       " <span class=\"font--semi-bold\">Peaked</span> at #71 on\n",
       " <a class=\"color--secondary font--bold\" href=\"\">24.12.2016</a>\n",
       " </p>\n",
       " </div>\n",
       " </div>\n",
       " </li>\n",
       " <li class=\"chart-history__titles__list__item\">\n",
       " <div class=\"chart-history__item\">\n",
       " <a class=\"chart-history__item__image\" href=\"/music/frank-sinatra/chart-history/TLP/song/177440\" style=\"background-image: url('https://charts-static.billboard.com/img/1993/11/frank-sinatra-ytu-duets-vfq.jpg');\"></a>\n",
       " <a class=\"chart-history__item__left\" href=\"/music/frank-sinatra/chart-history/TLP/song/177440\">\n",
       " <p class=\"chart-history__titles__list__item__title color--primary font--semi-bold\">Duets</p>\n",
       " <p class=\"chart-history__titles__list__item__artist\">Frank Sinatra</p>\n",
       " </a>\n",
       " <div class=\"chart-history__item__right\">\n",
       " <p class=\"chart-history__titles__list__item__peak\">\n",
       " <span class=\"font--semi-bold\">Peaked</span> at #2 on\n",
       " <a class=\"color--secondary font--bold\" href=\"\">20.11.1993</a>\n",
       " </p>\n",
       " </div>\n",
       " </div>\n",
       " </li>\n",
       " </ul>]"
      ]
     },
     "execution_count": 14,
     "metadata": {},
     "output_type": "execute_result"
    }
   ],
   "source": [
    "parse_song_list = 'chart-history__titles__list__item'\n",
    "\n",
    "soup = bs(source.content, 'html.parser')\n",
    "find_list = soup.find_all('ul', class_=\"chart-history__titles__list\")\n",
    "# find_list # uncomment to see parsed html code"
   ]
  },
  {
   "cell_type": "code",
   "execution_count": 17,
   "metadata": {},
   "outputs": [
    {
     "name": "stdout",
     "output_type": "stream",
     "text": [
      "Finished writing to file!\n"
     ]
    }
   ],
   "source": [
    "# create a csv file to save song info\n",
    "filename = \"Strangers_of_the_Night.csv\"\n",
    "f = open(filename, \"w\")\n",
    "\n",
    "try:\n",
    "    soup = bs(find_list.__str__(), 'html.parser')\n",
    "    containers = soup.find_all('li')\n",
    "    \n",
    "    file_header = \"Billboard Number, Date, Song Title, Artist\\n\"\n",
    "    f.write(file_header)\n",
    "    \n",
    "    for container in containers:\n",
    "        # find song peak\n",
    "        get_peak = container.find(\"p\", {\"class\": class_peak})\n",
    "        peak = get_peak.get_text().strip()\n",
    "\n",
    "        # extract ranking from sentence\n",
    "        res = [float(s) for s in re.findall(r'-?\\d+\\.?\\d*', peak)] \n",
    "        peak = str(int(res[0]))\n",
    "\n",
    "        # find date of peak\n",
    "        get_date = container.find(\"a\", {\"class\": class_peak_date})\n",
    "        on_date = get_date.get_text().strip()\n",
    "\n",
    "        # find artist name\n",
    "        get_artist = container.find(\"p\", {\"class\": class_artist})\n",
    "        artist = get_artist.get_text().strip()\n",
    "\n",
    "        # find song name\n",
    "        get_song = container.find(\"p\", {\"class\": class_song})\n",
    "        song = get_song.get_text().strip()\n",
    "\n",
    "#         print(f' Peak: {peak}\\n Date: {on_date}\\n Song: {song}\\n Artist: {artist}\\n')\n",
    "        f.write(peak + \",\" + on_date + \",\" + song + \",\" + artist.replace(\",\" , \"|\") + '\\n')\n",
    "\n",
    "except Exception as e:\n",
    "    print(str(e))\n",
    "    \n",
    "f.close()\n",
    "print(\"Finished writing to file!\")"
   ]
  },
  {
   "cell_type": "code",
   "execution_count": null,
   "metadata": {},
   "outputs": [],
   "source": [
    "    "
   ]
  }
 ],
 "metadata": {
  "kernelspec": {
   "display_name": "Python 3",
   "language": "python",
   "name": "python3"
  },
  "language_info": {
   "codemirror_mode": {
    "name": "ipython",
    "version": 3
   },
   "file_extension": ".py",
   "mimetype": "text/x-python",
   "name": "python",
   "nbconvert_exporter": "python",
   "pygments_lexer": "ipython3",
   "version": "3.7.6"
  }
 },
 "nbformat": 4,
 "nbformat_minor": 4
}
